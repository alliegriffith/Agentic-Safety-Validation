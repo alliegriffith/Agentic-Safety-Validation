{
 "cells": [
  {
   "cell_type": "markdown",
   "metadata": {},
   "source": [
    "# Testing out just rollouts of large numbers of trajectories!"
   ]
  },
  {
   "cell_type": "code",
   "execution_count": 1,
   "metadata": {},
   "outputs": [],
   "source": [
    "\n",
    "from utilities import rollout\n",
    "import gymnasium as gym\n",
    "import highway_env\n",
    "from stable_baselines3 import DQN\n",
    "from stable_baselines3.common.evaluation import evaluate_policy"
   ]
  },
  {
   "cell_type": "code",
   "execution_count": 14,
   "metadata": {},
   "outputs": [
    {
     "name": "stderr",
     "output_type": "stream",
     "text": [
      "/Users/gracekim/Documents/School_Everything_and_LEARNING/Stanford/Githubs/Agentic-Safety-Validation/.venv/lib/python3.11/site-packages/stable_baselines3/common/save_util.py:167: UserWarning: Could not deserialize object lr_schedule. Consider using `custom_objects` argument to replace this object.\n",
      "Exception: code() argument 13 must be str, not int\n",
      "  warnings.warn(\n",
      "/Users/gracekim/Documents/School_Everything_and_LEARNING/Stanford/Githubs/Agentic-Safety-Validation/.venv/lib/python3.11/site-packages/stable_baselines3/common/save_util.py:167: UserWarning: Could not deserialize object exploration_schedule. Consider using `custom_objects` argument to replace this object.\n",
      "Exception: code() argument 13 must be str, not int\n",
      "  warnings.warn(\n"
     ]
    }
   ],
   "source": [
    "\n",
    "\n",
    "# Must use the same configuration as the one you trained the model in to evalaute it\n",
    "config = {\n",
    "    \"observation\": {\n",
    "        \"type\": \"Kinematics\",  # Ensures observation matches training\n",
    "        \"features\": [\"x\", \"y\", \"vx\", \"vy\"],  # Feature set used in training\n",
    "    },\n",
    "    \"action\": {\n",
    "        \"type\": \"DiscreteMetaAction\",\n",
    "    },\n",
    "    \"lanes_count\": 5,  # Number of lanes in the roundabout\n",
    "    \"vehicles_count\": 1,  # Total number of vehicles\n",
    "    \"duration\": 100,  # Simulation steps\n",
    "    \"collision_reward\": -1.0,  # Penalty for collision\n",
    "    \"reward_speed_range\": [20, 30],  # Preferred speed range\n",
    "}\n",
    "\n",
    "\n",
    "\n",
    "scenario = \"roundabout-v0\" \n",
    "render_mode = \"rgb_array\"\n",
    "\n",
    "# Setting up the environment\n",
    "env = gym.make(scenario, render_mode=render_mode, config = config)\n",
    "env.unwrapped.configure(config)\n",
    "# env.config['lanes_count'] = 1\n",
    "env.reset()\n",
    "# Load the trained model\n",
    "model = DQN.load(\"dqn_highway_roundabout\")\n",
    "\n",
    "trajectories = []\n",
    "\n",
    "for i in range(3):\n",
    "    trajectories.append(rollout(model,env,plot = False))\n"
   ]
  },
  {
   "cell_type": "code",
   "execution_count": null,
   "metadata": {},
   "outputs": [
    {
     "name": "stdout",
     "output_type": "stream",
     "text": [
      "[ 0.01861403  1.          0.05092392 -0.21851133]\n",
      "[ 0.08287161  1.          0.18060087 -0.16647014]\n",
      "[ 0.12044391  0.02282146  0.01918352 -0.24851212]\n",
      "[ 0.08162965 -1.         -0.17020205 -0.18294075]\n",
      "[ 0.01971666 -1.         -0.09477066 -0.21319535]\n",
      "[-0.00374267 -1.         -0.03366864 -0.07574071]\n",
      "[-0.01242562 -1.         -0.01196127 -0.02690797]\n",
      "[-0.01551036 -1.         -0.00424941 -0.00955945]\n",
      "[-0.01660626 -1.         -0.00150966 -0.00339613]\n",
      "[-1.6995590e-02 -1.0000000e+00 -5.3633004e-04 -1.2065240e-03]\n",
      "[-1.7133908e-02 -1.0000000e+00 -1.9053895e-04 -4.2863499e-04]\n",
      "[-1.7183047e-02 -1.0000000e+00 -6.7691704e-05 -1.5227874e-04]\n",
      "[-1.7200503e-02 -1.0000000e+00 -2.4048450e-05 -5.4099208e-05]\n",
      "[-1.7206706e-02 -1.0000000e+00 -8.5435568e-06 -1.9219522e-05]\n",
      "[-1.7208910e-02 -1.0000000e+00 -3.0352214e-06 -6.8280110e-06]\n",
      "[-1.7209692e-02 -1.0000000e+00 -1.0783060e-06 -2.4257490e-06]\n",
      "[-1.7209969e-02 -1.0000000e+00 -3.8308372e-07 -8.6178221e-07]\n",
      "[-1.7210068e-02 -1.0000000e+00 -1.3609599e-07 -3.0616050e-07]\n",
      "[-1.7210104e-02 -1.0000000e+00 -4.8350056e-08 -1.0876792e-07]\n",
      "[-1.7210117e-02 -1.0000000e+00 -1.7177053e-08 -3.8641364e-08]\n"
     ]
    },
    {
     "data": {
      "image/png": "[encoded data removed]",
      "text/plain": [
       "<Figure size 640x480 with 1 Axes>"
      ]
     },
     "metadata": {},
     "output_type": "display_data"
    },
    {
     "ename": "",
     "evalue": "",
     "output_type": "error",
     "traceback": [
      "\u001b[1;31mThe Kernel crashed while executing code in the current cell or a previous cell. \n",
      "\u001b[1;31mPlease review the code in the cell(s) to identify a possible cause of the failure. \n",
      "\u001b[1;31mClick <a href='https://aka.ms/vscodeJupyterKernelCrash'>here</a> for more info. \n",
      "\u001b[1;31mView Jupyter <a href='command:jupyter.viewOutput'>log</a> for further details."
     ]
    }
   ],
   "source": [
    "# for i in trajectories[0]:\n",
    "    # print(\"observation \",i[0][0])\n",
    "    # print(\"action \",i[1])\n",
    "    # print(\"reward \",i[2])\n",
    "\n",
    "import matplotlib.pyplot as plt\n",
    "# [[ 0.01861403  1.          0.05092392 -0.21851133]\n",
    "# [[ 0.01861403  1.          0.05092392 -0.21851133]\n",
    "x = 0\n",
    "\n",
    "for i in range(1):\n",
    "    car_1_x = []\n",
    "    car_1_y = []\n",
    "    car_1_x_vel = []\n",
    "    car_1_y_vel  = []\n",
    "    for trajectory in trajectories[i]:\n",
    "        for observation in trajectory[0:1]:\n",
    "            for car in observation[0:1]:\n",
    "                print(car)\n",
    "                car_1_x.append(car[0])\n",
    "                car_1_y.append(car[1])\n",
    "                car_1_x_vel.append(car[2])\n",
    "                car_1_y_vel.append(car[3])\n",
    "\n",
    "    # plt.plot(car_1_x,car_1_y, label = \"trial\"+str(i))\n",
    "    t = []\n",
    "    for j in range(len(car_1_x)):\n",
    "        t.append(j)\n",
    "\n",
    "    plt.plot(t,car_1_x, label = \"trial\"+str(i))\n",
    "    # plt.gca().set_aspect(1)\n",
    "\n",
    "\n",
    "# plt.legend()\n",
    "\n"
   ]
  },
  {
   "cell_type": "markdown",
   "metadata": {},
   "source": [
    "## GOALS:\n",
    "\n",
    "Going into the weekend\n",
    "- proposal trajectory distribution / nominal trajectory (how do we build this out? for something like this?)\n",
    "    - how do you do this for a 2d problem\n",
    "    - how to tell from this probability distribution how it would be sampled from that trajectory\n",
    "- how do we make it more granular for info?\n"
   ]
  },
  {
   "cell_type": "markdown",
   "metadata": {},
   "source": [
    "### 2/19/2025 - Allie / Grace\n",
    "\n",
    "- plotting the car with x,y\n",
    "- plotting initial state distributions? (positions and velocities?)\n",
    "- config >> only lets us do 5 cars for now **note for the future / testing other envs**\n",
    "    - can add car after we build environment?\n",
    "\n"
   ]
  },
  {
   "cell_type": "code",
   "execution_count": null,
   "metadata": {},
   "outputs": [],
   "source": []
  },
  {
   "cell_type": "code",
   "execution_count": 2,
   "metadata": {},
   "outputs": [],
   "source": [
    "# from rl import rollout\n",
    "import gymnasium as gym\n",
    "import highway_env\n",
    "from stable_baselines3 import DQN\n",
    "from stable_baselines3.common.evaluation import evaluate_policy"
   ]
  },
  {
   "cell_type": "code",
   "execution_count": 3,
   "metadata": {},
   "outputs": [],
   "source": [
    "\n",
    "# Load the environment\n",
    "env = gym.make(\"roundabout-v0\", render_mode=\"rgb_array\")\n",
    "\n",
    "# create configuration\n",
    "config = {\n",
    "    \"observation\": {\n",
    "        \"type\": \"Kinematics\",  \n",
    "        \"features\": [\"x\", \"y\", \"vx\", \"vy\"],  \n",
    "    },\n",
    "    \"action\": {\n",
    "        # if want more control over action space, switch to \"ContinuousAction\"\n",
    "        \"type\": \"DiscreteMetaAction\",\n",
    "    },\n",
    "    \"lanes_count\": 2,  # Number of lanes in the roundabout - fixed\n",
    "    \"vehicles_count\": 5,  # fixed\n",
    "    \"duration\": 100,  \n",
    "    \"collision_reward\": -1.0,  \n",
    "    \"reward_speed_range\": [20, 30],  \n",
    "    # policy_frequency = agent makes decisions 5 times per second\n",
    "    \"policy_frequency\": 15,   # increase to make the agent act more frequently\n",
    "    # environment updates 30 times per second\n",
    "    \"simulation_frequency\": 30,  # Increase to make environment update more frequently\n",
    "    # agent makes a decision every simulation_frequency / policy_frequency steps.\n",
    "}\n",
    "\n",
    "env.unwrapped.configure(config) "
   ]
  },
  {
   "cell_type": "code",
   "execution_count": 4,
   "metadata": {},
   "outputs": [],
   "source": [
    "import numpy as np\n",
    "def genInitialDist(numSims,env):\n",
    "    numCars = 4 # TODO: need to automate later len(obs[1:])\n",
    "    params = ['x','y','vx','vy'] # TODO: need to automate later len(obs[1:])\n",
    "    initialStates = {}\n",
    "    for param in params:\n",
    "         for i in range(numCars):\n",
    "            initialStates[f'car{i+1}{param}'] = np.zeros(numSims)\n",
    "    for sim in range(numSims):\n",
    "        obs, _ = env.reset()\n",
    "        for car in range(numCars):\n",
    "            # for car in initialState:\n",
    "            # print(initialStates.keys())\n",
    "            for ob in range(len(obs[car+1])):\n",
    "                initialStates[\"car\"+str(car+1)+params[ob]][sim] = obs[car+1][ob]\n",
    "    return initialStates"
   ]
  },
  {
   "cell_type": "code",
   "execution_count": 5,
   "metadata": {},
   "outputs": [
    {
     "name": "stderr",
     "output_type": "stream",
     "text": [
      "/Users/gracekim/Documents/School_Everything_and_LEARNING/Stanford/Githubs/Agentic-Safety-Validation/.venv/lib/python3.11/site-packages/stable_baselines3/common/save_util.py:167: UserWarning: Could not deserialize object lr_schedule. Consider using `custom_objects` argument to replace this object.\n",
      "Exception: code() argument 13 must be str, not int\n",
      "  warnings.warn(\n",
      "/Users/gracekim/Documents/School_Everything_and_LEARNING/Stanford/Githubs/Agentic-Safety-Validation/.venv/lib/python3.11/site-packages/stable_baselines3/common/save_util.py:167: UserWarning: Could not deserialize object exploration_schedule. Consider using `custom_objects` argument to replace this object.\n",
      "Exception: code() argument 13 must be str, not int\n",
      "  warnings.warn(\n"
     ]
    }
   ],
   "source": [
    "# from utilities import genInitialDist\n",
    "\n",
    "model = DQN.load(\"dqn_highway_roundabout\")\n",
    "numT = 1000\n",
    "numSteps = 100\n",
    "\n",
    "initialStates = genInitialDist(numT,env)\n",
    "\n",
    "# initStates = []\n",
    "# for i in range(numT):\n",
    "#     obs, _ = env.reset()\n",
    "#     print(obs)\n",
    "#     initialState = obs[-4:]\n",
    "#     # for car in initialState:\n",
    "#     initStates.append(initialState[2])\n",
    "\n",
    "# print(initStates)\n",
    "\n",
    "# run 5 trajectories, each for 10 timesteps\n",
    "# rewards, initStates, positions = episode(env, model, numSteps, numT)\n",
    "\n",
    "# show each trajectory info \n",
    "# showTrajectoryInfo(numT, rewards, initStates, positions)"
   ]
  },
  {
   "cell_type": "code",
   "execution_count": 6,
   "metadata": {},
   "outputs": [],
   "source": [
    "import matplotlib.pyplot as plt\n",
    "import numpy as np"
   ]
  },
  {
   "cell_type": "code",
   "execution_count": 7,
   "metadata": {},
   "outputs": [
    {
     "data": {
      "text/plain": [
       "array([-1.75103527e-02, -6.88182050e-03, -2.72577405e-02, -2.14410890e-02,\n",
       "       -1.70322843e-02, -3.18158418e-02, -2.95328815e-02, -3.71109731e-02,\n",
       "       -9.53926519e-03, -3.01803425e-02, -2.14705281e-02, -3.32524553e-02,\n",
       "       -3.87133583e-02, -2.15241350e-02, -2.43103039e-02, -2.42784303e-02,\n",
       "       -9.35849547e-03, -2.34185178e-02, -1.09630385e-02, -3.63085978e-02,\n",
       "       -2.92981360e-02, -1.72045454e-02, -3.50667201e-02, -3.48711461e-02,\n",
       "       -4.47634906e-02, -2.72558481e-02, -2.59090904e-02, -2.50898097e-02,\n",
       "       -2.32636593e-02, -1.41478116e-02, -9.63603705e-03, -2.04612445e-02,\n",
       "       -2.77752466e-02, -2.25714836e-02, -4.41439003e-02, -2.12849174e-02,\n",
       "       -1.77268719e-03, -1.81188881e-02, -2.28040405e-02, -3.37711982e-02,\n",
       "       -2.73417309e-02, -3.60334665e-02, -2.67552901e-02, -1.20011372e-02,\n",
       "       -3.38433385e-02, -2.76225954e-02, -2.23364998e-02, -1.94213409e-02,\n",
       "       -4.34222110e-02, -1.33289173e-02, -2.45267004e-02, -2.21000500e-02,\n",
       "       -1.72570515e-02, -1.87669713e-02, -2.91360822e-02, -4.79826294e-02,\n",
       "       -3.04533672e-02, -3.43039259e-02, -2.16888096e-02, -3.32278647e-02,\n",
       "       -3.57989408e-02, -3.28832977e-02, -2.27872971e-02, -3.81410457e-02,\n",
       "       -1.78449359e-02, -2.22201571e-02, -1.81603003e-02, -3.61184850e-02,\n",
       "       -1.69197731e-02, -2.08898168e-02, -3.26005928e-02, -3.54898944e-02,\n",
       "       -2.46429183e-02, -1.63285937e-02, -2.90662460e-02, -4.02212478e-02,\n",
       "       -2.81412080e-02, -1.47139821e-02, -2.09923442e-02, -1.81390271e-02,\n",
       "       -1.27023859e-02, -1.57370120e-02, -3.26258726e-02, -2.82842163e-02,\n",
       "       -9.71214194e-03, -2.92562395e-02, -2.00076886e-02, -3.37061882e-02,\n",
       "       -3.32546011e-02, -1.84765868e-02, -3.61395366e-02, -2.83822175e-02,\n",
       "       -4.68069427e-02, -2.57248338e-02, -2.75043193e-02, -1.70851201e-02,\n",
       "       -1.67022385e-02, -1.59485992e-02, -3.86028215e-02, -4.23448272e-02,\n",
       "        4.21864679e-03, -2.29704697e-02, -1.14854379e-02, -1.54672768e-02,\n",
       "       -2.32980605e-02, -4.46492359e-02, -1.95356887e-02, -3.49466465e-02,\n",
       "       -3.67868245e-02, -2.59348657e-02, -3.58458236e-02, -2.60893125e-02,\n",
       "       -1.07642794e-02, -3.39492112e-02, -1.00837871e-02, -1.93132758e-02,\n",
       "       -4.08178195e-02, -3.74247544e-02, -1.37990192e-02, -1.53806405e-02,\n",
       "       -1.34566007e-02, -1.73663851e-02, -3.96502800e-02, -1.93314850e-02,\n",
       "       -1.47577906e-02, -3.26381885e-02, -2.42619719e-02, -9.12132021e-03,\n",
       "       -8.83034139e-04, -1.48476390e-02, -2.43563056e-02, -1.54347457e-02,\n",
       "       -2.58794092e-02, -3.58439535e-02, -2.79478654e-02, -1.07498886e-02,\n",
       "       -4.61403318e-02, -4.04267274e-02, -3.06765493e-02, -3.38003710e-02,\n",
       "       -1.58555284e-02, -8.79830867e-03, -3.15970555e-02, -3.31481025e-02,\n",
       "       -2.82810219e-02, -4.87579219e-02, -2.38413718e-02, -1.79774500e-02,\n",
       "       -4.17585000e-02, -3.80455889e-02, -2.88204197e-02, -2.67840978e-02,\n",
       "       -1.91227589e-02, -3.06711234e-02, -1.44706089e-02, -2.80208550e-02,\n",
       "       -8.89159832e-03, -4.56469059e-02, -3.40918675e-02, -2.63835806e-02,\n",
       "       -1.65203009e-02, -3.29892412e-02, -2.66678277e-02, -3.18947360e-02,\n",
       "       -3.93575942e-03, -2.16638874e-02, -3.72425653e-02, -3.50420922e-02,\n",
       "       -2.12138779e-02, -1.70874894e-02, -2.78500803e-02, -2.69076526e-02,\n",
       "       -2.16649566e-02, -1.57757886e-02, -1.90307405e-02, -2.85549536e-02,\n",
       "       -2.36802120e-02, -1.85567383e-02, -2.30324324e-02, -3.04018948e-02,\n",
       "       -1.11221801e-02, -2.25101765e-02, -2.84064841e-02, -2.85686981e-02,\n",
       "       -2.45693438e-02, -2.57125404e-02, -3.23761106e-02, -3.13782878e-02,\n",
       "       -3.53887938e-02, -3.50887887e-02, -3.64654586e-02, -1.55930258e-02,\n",
       "       -2.00351514e-02, -2.41749454e-02, -3.31721008e-02, -2.86797024e-02,\n",
       "       -7.41480477e-03, -2.75718570e-02, -3.85805070e-02, -3.37219760e-02,\n",
       "       -2.44605392e-02, -1.82141662e-02, -2.95388456e-02, -2.72855815e-02,\n",
       "       -2.91127036e-03, -1.10825794e-02, -3.00900731e-02, -2.03691572e-02,\n",
       "       -3.01457569e-02, -3.05938534e-02, -3.43345068e-02, -2.88805366e-02,\n",
       "       -3.99090871e-02, -2.30887309e-02,  9.12099131e-05, -2.73740031e-02,\n",
       "       -3.75014618e-02, -3.67033370e-02, -2.57654041e-02, -1.03099253e-02,\n",
       "       -3.56539525e-02, -4.27362919e-02, -2.39442196e-02, -2.31600720e-02,\n",
       "       -1.01025328e-02, -3.88829261e-02, -3.33096199e-02, -1.85058787e-02,\n",
       "       -1.46778431e-02, -2.45107524e-02, -3.13269161e-02, -3.75531390e-02,\n",
       "       -3.98107469e-02, -1.04460036e-02, -2.13919487e-02, -3.00650783e-02,\n",
       "       -3.47069576e-02, -2.55382266e-02, -3.49339396e-02, -7.65292067e-03,\n",
       "       -2.47569121e-02, -2.82521956e-02, -3.06187198e-02, -1.28647396e-02,\n",
       "       -6.30747387e-03, -1.49504934e-02, -3.00240219e-02, -1.73796266e-02,\n",
       "       -3.10587306e-02, -1.81669202e-02, -2.28350591e-02, -3.13449092e-02,\n",
       "       -2.57177204e-02, -2.08369214e-02, -2.14869864e-02, -1.32764690e-02,\n",
       "       -2.81331576e-02, -1.88002754e-02, -2.76930202e-02, -2.95761693e-02,\n",
       "       -2.71612164e-02, -3.61742117e-02, -3.02659497e-02, -8.79150350e-03,\n",
       "       -2.46747117e-02, -3.89609076e-02, -2.38277130e-02, -3.95570360e-02,\n",
       "       -1.68490931e-02, -3.54220122e-02, -1.77680179e-02, -2.58497819e-02,\n",
       "       -3.23567241e-02, -3.01049240e-02, -1.72194391e-02, -2.48944145e-02,\n",
       "       -2.92837955e-02, -2.12707650e-02, -3.25110778e-02, -1.61336157e-02,\n",
       "       -7.01891771e-03, -3.01982518e-02, -1.49439462e-02, -2.90334113e-02,\n",
       "       -2.82724872e-02, -2.50218529e-02, -1.44984443e-02, -1.39124170e-02,\n",
       "       -1.57008916e-02, -2.49980744e-02, -2.82955784e-02, -2.84239966e-02,\n",
       "       -3.59602273e-02, -3.88467982e-02, -3.28192227e-02, -2.36519836e-02,\n",
       "       -3.64826433e-02, -2.48113996e-03, -2.09055766e-02, -3.60350199e-02,\n",
       "       -2.95311958e-02, -3.10571976e-02, -2.66039390e-02, -2.98504122e-02,\n",
       "       -2.44958270e-02, -3.81784029e-02, -1.76016726e-02, -6.22853590e-03,\n",
       "       -2.09806524e-02, -2.71934010e-02, -1.37178320e-02, -1.93134975e-02,\n",
       "       -2.15296037e-02, -3.10949031e-02, -3.77662890e-02, -2.35934500e-02,\n",
       "       -3.01327370e-02, -2.44817641e-02, -3.74166518e-02, -3.35718840e-02,\n",
       "       -2.60853283e-02, -2.46515255e-02, -1.65179446e-02, -2.58654021e-02,\n",
       "       -8.69469345e-03, -2.96800062e-02, -3.00786477e-02, -1.37892934e-02,\n",
       "       -5.13489433e-02, -2.02851109e-02, -3.52881998e-02, -2.66271476e-02,\n",
       "       -3.09782196e-02, -4.15056422e-02, -2.32288577e-02, -2.84648687e-02,\n",
       "       -3.17395590e-02, -2.37815864e-02, -2.33183205e-02, -3.87123749e-02,\n",
       "       -6.62034610e-03, -2.54081562e-02, -1.47112729e-02, -2.81424057e-02,\n",
       "       -2.62941569e-02, -1.39259072e-02, -2.27699298e-02, -2.00799312e-02,\n",
       "       -3.31210643e-02, -1.80774275e-02, -2.47841254e-02, -2.94084419e-02,\n",
       "       -2.02398747e-02, -2.51602344e-02, -1.90371759e-02, -1.60307959e-02,\n",
       "       -8.97776335e-03, -1.18957805e-02, -4.75123897e-02, -7.45139690e-03,\n",
       "       -2.68316884e-02, -2.87779253e-02, -2.97641270e-02, -3.15524340e-02,\n",
       "       -2.49447003e-02, -2.60709450e-02, -4.41560149e-02, -1.61335152e-02,\n",
       "       -2.06352398e-02, -1.54309571e-02, -2.37661991e-02, -1.94708072e-02,\n",
       "       -2.26267539e-02, -2.47091260e-02, -1.57601424e-02, -4.13374379e-02,\n",
       "       -2.51331832e-02, -1.90389864e-02, -2.60169674e-02, -3.23945358e-02,\n",
       "       -2.31069308e-02, -4.01476957e-02, -2.93935090e-02, -2.52418574e-02,\n",
       "       -2.09170990e-02, -2.12199353e-02, -4.26287577e-02, -4.62202393e-02,\n",
       "       -1.81140881e-02, -2.12428905e-02, -3.47162001e-02, -2.08257381e-02,\n",
       "       -3.77060771e-02, -3.40980440e-02, -1.76267116e-03, -3.79388332e-02,\n",
       "       -2.26087067e-02, -1.67634953e-02, -2.21786350e-02, -4.91026323e-03,\n",
       "       -2.38295943e-02, -9.82758962e-03, -2.78025176e-02, -1.52777247e-02,\n",
       "       -2.02514678e-02, -2.32215580e-02, -3.70131098e-02, -3.12169828e-02,\n",
       "       -3.15078460e-02, -1.82907581e-02, -3.06385998e-02, -3.93456072e-02,\n",
       "       -4.53966111e-02, -3.43516134e-02, -2.86882911e-02, -3.49044874e-02,\n",
       "       -2.31292304e-02, -2.72450577e-02, -2.11857408e-02, -2.29382701e-02,\n",
       "       -5.49424216e-02, -2.32610684e-02, -1.63599346e-02, -2.32768189e-02,\n",
       "       -1.99473109e-02, -2.44788099e-02, -2.69726180e-02, -2.65233684e-02,\n",
       "       -3.11723556e-02, -2.36769300e-02, -3.93456686e-03,  7.99607299e-03,\n",
       "       -1.99765526e-02, -3.39838974e-02, -2.71603130e-02, -2.63063163e-02,\n",
       "       -1.69054344e-02, -2.97307204e-02, -2.74433419e-02, -3.76475677e-02,\n",
       "       -1.15383798e-02, -4.35542455e-03, -3.40196602e-02, -1.98752992e-02,\n",
       "        3.82894231e-03, -2.85928324e-02, -3.68138105e-02, -2.55544167e-02,\n",
       "       -2.28437427e-02, -1.87911838e-02, -2.10283268e-02, -1.38028646e-02,\n",
       "       -2.36103591e-02, -3.56313884e-02, -1.81723069e-02, -1.64840166e-02,\n",
       "       -2.98283212e-02, -2.20468156e-02, -3.27323191e-02, -1.43429991e-02,\n",
       "       -3.42209451e-02, -3.00289355e-02, -2.76307743e-02, -1.95255764e-02,\n",
       "       -3.46267931e-02, -3.44579481e-02, -1.82815157e-02, -2.94386707e-02,\n",
       "       -4.55959290e-02, -3.99272852e-02, -2.39965580e-02, -2.58964375e-02,\n",
       "       -2.16803122e-02, -2.43626125e-02, -3.45842503e-02, -2.17981655e-02,\n",
       "       -1.40883625e-02, -3.56488116e-02, -2.21174657e-02, -2.03491319e-02,\n",
       "       -2.85127033e-02, -4.10523936e-02, -3.34978402e-02, -8.23684782e-03,\n",
       "       -3.26015726e-02, -5.23383021e-02, -3.80715020e-02, -2.74759624e-02,\n",
       "       -2.09168177e-02, -4.37656119e-02, -3.32223773e-02, -8.94865673e-03,\n",
       "       -7.40873581e-03, -8.30570515e-03, -1.08709522e-02, -1.51232295e-02,\n",
       "       -1.97218321e-02, -1.24616940e-02, -2.60044485e-02, -2.95888074e-02,\n",
       "       -3.53056118e-02, -8.59881099e-03, -1.26075521e-02, -1.70966368e-02,\n",
       "       -2.89640427e-02, -1.91414710e-02, -3.27932872e-02, -2.03649029e-02,\n",
       "       -3.16692190e-03, -4.34396863e-02, -2.93036159e-02, -3.22099999e-02,\n",
       "       -3.63410078e-02, -2.09105387e-02, -1.72320716e-02, -3.13777849e-02,\n",
       "       -2.59132162e-02, -2.56782621e-02, -3.42842676e-02, -1.75668150e-02,\n",
       "       -4.73734066e-02, -1.83963161e-02, -2.58947983e-02, -4.32274565e-02,\n",
       "       -2.31621694e-02, -2.87257154e-02, -3.14066112e-02, -4.61262204e-02,\n",
       "       -3.49280015e-02, -3.15427668e-02, -2.69637331e-02, -1.46437753e-02,\n",
       "       -3.55457217e-02, -3.70356515e-02, -2.11687163e-02, -2.10921802e-02,\n",
       "       -5.01856580e-03, -8.11117515e-03, -2.92353928e-02, -1.67680327e-02,\n",
       "       -3.06002367e-02, -2.84367539e-02, -3.78362723e-02, -2.72210818e-02,\n",
       "       -2.42369343e-02, -2.11002938e-02, -3.47621366e-02, -3.83853018e-02,\n",
       "       -3.26929465e-02, -1.19498232e-02, -2.61553545e-02, -3.48254405e-02,\n",
       "       -2.07775682e-02, -2.70332042e-02, -1.25462422e-02, -1.67148598e-02,\n",
       "       -1.92338172e-02, -3.41824703e-02, -1.17682079e-02, -3.26456428e-02,\n",
       "       -1.85183007e-02, -2.61198003e-02, -1.53590152e-02, -1.33651812e-02,\n",
       "       -1.26423659e-02, -2.59698015e-02, -3.13787237e-02, -3.60181071e-02,\n",
       "       -1.99457929e-02,  7.02866539e-03, -2.33881380e-02, -3.38647477e-02,\n",
       "       -3.11510768e-02, -3.07954662e-02, -3.72475712e-04, -1.90323200e-02,\n",
       "       -2.03225911e-02, -2.94771269e-02, -4.46035266e-02, -1.34181017e-02,\n",
       "       -9.92173795e-03, -2.11821608e-02, -2.03473140e-02, -2.96685658e-02,\n",
       "       -3.48525606e-02, -1.30565045e-02, -2.55263671e-02, -3.42977457e-02,\n",
       "       -1.96202248e-02, -2.28703711e-02, -2.50185300e-02, -2.92306561e-02,\n",
       "       -9.77523532e-03, -3.16269621e-02, -3.13390419e-02, -2.92023718e-02,\n",
       "       -1.93843413e-02, -3.94921452e-02, -2.21627448e-02, -3.59453186e-02,\n",
       "       -1.88231096e-02, -2.70625949e-02, -2.28159539e-02, -3.15187238e-02,\n",
       "       -3.38339247e-02, -4.91137505e-02, -1.41833713e-02, -2.63938047e-02,\n",
       "       -2.67236177e-02, -2.26370003e-02, -2.00419445e-02, -2.28645522e-02,\n",
       "       -2.92155277e-02, -2.36079022e-02, -2.96279676e-02, -1.53356921e-02,\n",
       "       -3.96910571e-02, -1.03878947e-02, -2.46793926e-02, -3.26852575e-02,\n",
       "       -1.50843346e-02, -3.64774875e-02, -3.82718779e-02, -7.36632105e-03,\n",
       "       -3.91725227e-02, -2.38833651e-02, -2.31976882e-02, -2.13272125e-02,\n",
       "       -3.46044153e-02, -3.59395109e-02, -3.63979079e-02, -2.32461784e-02,\n",
       "       -2.15248391e-02, -2.42594611e-02, -1.48097165e-02, -2.19841301e-02,\n",
       "       -3.48803215e-02, -2.29028985e-02, -2.02553347e-02, -2.66849101e-02,\n",
       "       -8.91026761e-03, -1.81133505e-02, -1.50711890e-02, -1.76245775e-02,\n",
       "       -1.90779511e-02, -1.05438316e-02, -3.86272445e-02, -4.31018770e-02,\n",
       "       -3.22709233e-02, -3.02621555e-02, -2.93910857e-02, -3.57488357e-02,\n",
       "       -3.80423702e-02, -1.47191780e-02, -1.65463146e-02, -3.06944251e-02,\n",
       "       -3.27976346e-02, -3.96500640e-02, -1.74629204e-02, -4.70265746e-02,\n",
       "       -2.56415177e-02, -1.30607896e-02, -2.78615728e-02, -2.77812071e-02,\n",
       "       -2.33815815e-02, -1.15233008e-02, -2.15250757e-02, -3.39268222e-02,\n",
       "       -1.43540846e-02, -3.11118290e-02, -1.36637734e-02, -5.74339181e-03,\n",
       "       -2.67478731e-02, -9.72744916e-03, -7.55849946e-03, -1.61884110e-02,\n",
       "       -2.37367023e-02, -1.57355908e-02, -2.69778594e-02, -3.26723456e-02,\n",
       "       -2.15383004e-02, -3.53341736e-02, -3.98026928e-02, -8.50094482e-03,\n",
       "       -3.02185472e-02, -5.49957575e-03, -2.30646152e-02, -2.50296388e-02,\n",
       "       -1.66440308e-02, -2.04828791e-02, -3.25121246e-02, -3.33631895e-02,\n",
       "       -2.33606566e-02, -2.10679453e-02, -1.84036326e-02, -1.78683084e-02,\n",
       "       -3.21042091e-02, -2.00102217e-02, -2.55121663e-02, -4.02206406e-02,\n",
       "       -1.68240760e-02, -4.77016009e-02, -3.46380845e-02, -1.38703138e-02,\n",
       "       -2.31265388e-02, -2.12207735e-02, -3.97382565e-02,  1.99812208e-03,\n",
       "       -1.12893069e-02, -1.83854904e-02, -2.89914887e-02, -2.67388485e-02,\n",
       "       -1.94734968e-02, -2.05624551e-02, -4.04035635e-02, -1.97463147e-02,\n",
       "       -2.61082388e-02, -1.41776521e-02, -3.28635238e-02, -3.07385530e-02,\n",
       "       -1.59903653e-02, -3.21054421e-02, -3.15377153e-02, -1.19881043e-02,\n",
       "       -4.86517288e-02, -2.50306521e-02, -9.94978007e-03, -1.61759872e-02,\n",
       "       -1.57511830e-02, -4.28969413e-02, -3.08717322e-02, -3.83803770e-02,\n",
       "       -2.28972770e-02, -3.06445025e-02, -2.56765354e-02, -1.71957966e-02,\n",
       "       -1.46770356e-02, -2.60403790e-02, -3.39091383e-02, -3.30197066e-02,\n",
       "       -2.28800755e-02, -1.96240060e-02, -3.37292105e-02, -1.34230927e-02,\n",
       "       -2.26328373e-02, -1.63134504e-02, -2.52907015e-02, -2.34445557e-02,\n",
       "       -3.89570855e-02, -2.14576013e-02, -3.14783752e-02, -5.87141886e-03,\n",
       "       -2.17231736e-02, -3.37196030e-02, -2.69124731e-02, -1.94512699e-02,\n",
       "       -3.56028415e-02, -1.41115533e-02, -2.58601792e-02, -2.19270755e-02,\n",
       "       -4.35620267e-03, -2.53153108e-02, -1.01967286e-02, -3.93165946e-02,\n",
       "       -2.43347455e-02, -4.19829600e-02, -3.42325494e-02, -3.06645520e-02,\n",
       "       -1.53078083e-02, -1.73266325e-02, -3.22434008e-02, -1.59342140e-02,\n",
       "       -4.33042310e-02, -1.50225293e-02, -1.80521011e-02, -6.27610181e-03,\n",
       "       -3.60970460e-02, -3.00329309e-02, -2.89602652e-02, -2.44032312e-02,\n",
       "       -3.07199042e-02, -4.40763384e-02, -1.67315118e-02, -1.86496433e-02,\n",
       "       -3.29293720e-02, -3.02084591e-02, -3.17013673e-02, -2.85400916e-02,\n",
       "       -1.96222700e-02, -6.09825272e-03, -1.42208822e-02, -2.88652070e-02,\n",
       "       -3.94031294e-02, -2.77802534e-02, -3.43073010e-02, -2.54435204e-02,\n",
       "       -2.49895770e-02, -4.26168032e-02, -3.64189483e-02, -4.91838390e-03,\n",
       "       -3.39453295e-02, -3.75958607e-02, -1.43026896e-02, -2.60829143e-02,\n",
       "       -2.94547100e-02, -2.11618654e-02, -1.71472151e-02, -2.49653086e-02,\n",
       "       -3.18660326e-02, -1.69395600e-02, -3.30942795e-02, -4.05656639e-03,\n",
       "       -2.15859711e-02, -2.02070046e-02, -2.83477996e-02, -2.09882073e-02,\n",
       "       -2.30840538e-02, -1.65346172e-02, -2.21591443e-02, -2.05235407e-02,\n",
       "       -3.59236896e-02, -3.67480740e-02, -2.29921881e-02, -4.25197519e-02,\n",
       "       -3.42803746e-02, -2.42533553e-02, -9.92460642e-03, -3.02128475e-02,\n",
       "       -2.39868984e-02, -5.16893761e-03, -1.88714992e-02, -4.29693460e-02,\n",
       "       -6.05574949e-03, -2.09172256e-02, -2.86314357e-02, -2.81172004e-02,\n",
       "       -3.07129342e-02, -4.36160676e-02, -2.91873068e-02, -1.12249972e-02,\n",
       "       -5.58200432e-03, -3.70320342e-02, -3.85327376e-02, -3.54740992e-02,\n",
       "       -1.07553937e-02, -3.95597033e-02, -3.01362611e-02, -2.50412039e-02,\n",
       "       -2.29603145e-02, -7.29138497e-03, -4.00060862e-02, -2.17985809e-02,\n",
       "       -1.93225481e-02, -1.63657013e-02, -2.20900308e-02, -1.86279714e-02,\n",
       "       -1.83885936e-02, -4.14013825e-02, -3.67335118e-02, -1.19916331e-02,\n",
       "       -1.84536818e-02, -2.13740300e-02, -5.72305452e-03, -2.66931690e-02,\n",
       "       -3.27346735e-02, -2.52987519e-02, -1.87231489e-02, -2.06959415e-02,\n",
       "       -4.05917652e-02, -2.26200093e-02, -1.22851552e-02, -2.02845763e-02,\n",
       "       -3.26237194e-02, -1.90214645e-02, -3.16358842e-02, -3.08127105e-02,\n",
       "       -2.01824494e-02, -2.44786646e-02, -3.34094614e-02, -3.68602425e-02,\n",
       "       -1.31986560e-02, -3.68610062e-02, -1.35347163e-02, -3.55206281e-02,\n",
       "       -4.36741635e-02, -2.92757265e-02, -2.75579486e-02, -2.51399204e-02,\n",
       "       -1.01287616e-02, -1.99979376e-02, -2.72765160e-02, -3.89645956e-02,\n",
       "       -1.49694243e-02, -2.57508550e-02, -3.42411958e-02, -1.12534333e-02,\n",
       "       -2.84387134e-02, -3.81519608e-02, -4.07846086e-02, -1.36101758e-02,\n",
       "       -2.55780984e-02, -4.15774696e-02, -1.48471668e-02, -1.06197521e-02,\n",
       "       -2.16753725e-02, -5.79279894e-03, -3.75252292e-02, -1.27888117e-02,\n",
       "       -1.74135454e-02, -4.24204133e-02, -1.74855962e-02, -1.86830498e-02,\n",
       "       -2.02346668e-02, -1.59302428e-02, -2.09118873e-02, -1.34234494e-02,\n",
       "       -1.64137967e-02, -2.36379765e-02, -3.45205739e-02, -2.30607521e-02,\n",
       "       -2.55219769e-02, -8.69679544e-03, -2.23451406e-02, -3.28799970e-02,\n",
       "       -1.83273312e-02, -1.92713682e-02, -2.49263123e-02, -1.57936532e-02,\n",
       "       -2.50110105e-02, -3.02592646e-02, -1.86793376e-02, -1.79259442e-02,\n",
       "       -1.74713116e-02, -4.29275408e-02, -3.15302685e-02, -1.90707687e-02,\n",
       "       -2.73066573e-02, -3.10281310e-02, -2.72047240e-02, -3.36239748e-02,\n",
       "       -2.44399961e-02, -1.79731008e-02, -1.36714103e-02, -2.61986665e-02,\n",
       "       -2.24271771e-02, -2.24863514e-02, -1.74515732e-02, -3.31654139e-02,\n",
       "       -2.03137752e-02, -1.02239139e-02, -3.16642262e-02, -1.46322977e-02,\n",
       "       -1.09688686e-02, -2.71474626e-02, -3.15357260e-02, -2.30049938e-02,\n",
       "       -2.81927958e-02, -2.30701454e-03, -1.14393840e-02, -2.94384882e-02,\n",
       "       -1.17407069e-02, -3.66173945e-02, -3.74265276e-02, -1.49496635e-02,\n",
       "       -2.22168453e-02, -1.80293787e-02, -3.38681638e-02, -1.76263712e-02,\n",
       "       -2.01169699e-02, -3.66453528e-02, -4.30426449e-02, -3.09212804e-02,\n",
       "       -2.56892350e-02, -2.26111263e-02, -2.81584449e-02, -1.00710820e-02,\n",
       "       -3.37459967e-02, -3.15100513e-02, -3.98203954e-02, -2.20015217e-02,\n",
       "       -1.82310268e-02, -2.83859037e-02, -3.67587991e-02, -2.30001826e-02,\n",
       "       -2.07785740e-02, -3.33069749e-02, -3.96430306e-02, -1.75219821e-03,\n",
       "       -3.99038382e-02, -2.07176302e-02, -3.88563797e-02, -9.57951229e-03,\n",
       "       -2.99759898e-02, -1.38283595e-02, -1.33129694e-02, -3.26094106e-02,\n",
       "       -3.99328992e-02, -2.61780284e-02, -3.08646616e-02, -3.54442336e-02])"
      ]
     },
     "execution_count": 7,
     "metadata": {},
     "output_type": "execute_result"
    }
   ],
   "source": [
    "initialStates['car1x']"
   ]
  },
  {
   "cell_type": "code",
   "execution_count": 37,
   "metadata": {},
   "outputs": [
    {
     "data": {
      "text/plain": [
       "dict_keys(['car1x', 'car2x', 'car3x', 'car4x', 'car1y', 'car2y', 'car3y', 'car4y', 'car1vx', 'car2vx', 'car3vx', 'car4vx', 'car1vy', 'car2vy', 'car3vy', 'car4vy'])"
      ]
     },
     "execution_count": 37,
     "metadata": {},
     "output_type": "execute_result"
    }
   ],
   "source": [
    "initialStates.keys()"
   ]
  },
  {
   "cell_type": "code",
   "execution_count": 57,
   "metadata": {},
   "outputs": [],
   "source": [
    "initStates[:]\n",
    "x = np.array(initStates)\n",
    "np.save('car3.npy', x)\n",
    "\n",
    "x_col = x[:, 0]"
   ]
  },
  {
   "cell_type": "code",
   "execution_count": 8,
   "metadata": {},
   "outputs": [
    {
     "data": {
      "text/plain": [
       "(array([ 4.,  2.,  3.,  6.,  8.,  3., 14., 20., 12., 22., 26., 40., 31.,\n",
       "        47., 41., 30., 47., 52., 45., 39., 36., 42., 43., 30., 51., 22.,\n",
       "        38., 23., 37., 26., 27., 22., 10., 23.,  8., 20., 10.,  7.,  5.,\n",
       "         3.,  4.,  3.,  4.,  2.,  2.,  2.,  3.,  2.,  0.,  3.]),\n",
       " array([-0.12043083, -0.11978527, -0.11913972, -0.11849416, -0.1178486 ,\n",
       "        -0.11720305, -0.11655749, -0.11591194, -0.11526638, -0.11462083,\n",
       "        -0.11397527, -0.11332971, -0.11268416, -0.1120386 , -0.11139305,\n",
       "        -0.11074749, -0.11010194, -0.10945638, -0.10881082, -0.10816527,\n",
       "        -0.10751971, -0.10687416, -0.1062286 , -0.10558305, -0.10493749,\n",
       "        -0.10429193, -0.10364638, -0.10300082, -0.10235527, -0.10170971,\n",
       "        -0.10106416, -0.1004186 , -0.09977304, -0.09912749, -0.09848193,\n",
       "        -0.09783638, -0.09719082, -0.09654527, -0.09589971, -0.09525415,\n",
       "        -0.0946086 , -0.09396304, -0.09331749, -0.09267193, -0.09202638,\n",
       "        -0.09138082, -0.09073526, -0.09008971, -0.08944415, -0.0887986 ,\n",
       "        -0.08815304]),\n",
       " <BarContainer object of 50 artists>)"
      ]
     },
     "execution_count": 8,
     "metadata": {},
     "output_type": "execute_result"
    },
    {
     "data": {
      "image/png": "[encoded data removed]",
      "text/plain": [
       "<Figure size 640x480 with 1 Axes>"
      ]
     },
     "metadata": {},
     "output_type": "display_data"
    }
   ],
   "source": [
    "plt.hist(initialStates['car2x'],bins = 50)"
   ]
  },
  {
   "cell_type": "code",
   "execution_count": 41,
   "metadata": {},
   "outputs": [
    {
     "name": "stdout",
     "output_type": "stream",
     "text": [
      "Full Config: {'observation': {'type': 'Kinematics', 'features': ['x', 'y', 'vx', 'vy']}, 'action': {'type': 'DiscreteMetaAction'}, 'simulation_frequency': 30, 'policy_frequency': 15, 'other_vehicles_type': 'highway_env.vehicle.behavior.IDMVehicle', 'screen_width': 600, 'screen_height': 600, 'centering_position': [0.5, 0.6], 'scaling': 5.5, 'show_trajectories': False, 'render_agent': True, 'offscreen_rendering': False, 'manual_control': False, 'real_time_rendering': False, 'incoming_vehicle_destination': None, 'collision_reward': -1.0, 'high_speed_reward': 0.2, 'right_lane_reward': 0, 'lane_change_reward': -0.05, 'duration': 100, 'normalize_reward': True, 'lanes_count': 2, 'vehicles_count': 5, 'reward_speed_range': [20, 30]}\n"
     ]
    }
   ],
   "source": [
    "print(\"Full Config:\", env.unwrapped.config)"
   ]
  },
  {
   "cell_type": "code",
   "execution_count": 13,
   "metadata": {},
   "outputs": [
    {
     "data": {
      "image/png": "[encoded data removed]",
      "text/plain": [
       "<Figure size 640x480 with 1 Axes>"
      ]
     },
     "metadata": {},
     "output_type": "display_data"
    }
   ],
   "source": [
    "\n",
    "from scipy.stats import norm\n",
    "\n",
    "# Generate some data for this \n",
    "# demonstration.\n",
    "# data = np.random.normal(170, 10, 250)\n",
    "\n",
    "# Fit a normal distribution to\n",
    "# the data:\n",
    "# mean and standard deviation\n",
    "mu, std = norm.fit(initialStates['car1x'] ) \n",
    "\n",
    "# Plot the histogram.\n",
    "plt.hist(initialStates['car1x'] , bins=30, density=True, alpha=0.6, color='b')\n",
    "\n",
    "# Plot the PDF.\n",
    "xmin, xmax = plt.xlim()\n",
    "x = np.linspace(xmin, xmax, 100)\n",
    "p = norm.pdf(x, mu, std)\n",
    "\n",
    "plt.plot(x, p, 'k', linewidth=2)\n",
    "title = \"Fit Values: {:.2f} and {:.2f}\".format(mu, std)\n",
    "plt.title(title)\n",
    "\n",
    "plt.show()"
   ]
  },
  {
   "cell_type": "code",
   "execution_count": null,
   "metadata": {},
   "outputs": [],
   "source": []
  }
 ],
 "metadata": {
  "kernelspec": {
   "display_name": ".venv",
   "language": "python",
   "name": "python3"
  },
  "language_info": {
   "codemirror_mode": {
    "name": "ipython",
    "version": 3
   },
   "file_extension": ".py",
   "mimetype": "text/x-python",
   "name": "python",
   "nbconvert_exporter": "python",
   "pygments_lexer": "ipython3",
   "version": "3.11.8"
  }
 },
 "nbformat": 4,
 "nbformat_minor": 2
}
